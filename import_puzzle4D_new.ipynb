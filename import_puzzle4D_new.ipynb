{
 "cells": [
  {
   "cell_type": "code",
   "execution_count": 1,
   "metadata": {
    "collapsed": true
   },
   "outputs": [],
   "source": [
    "import pandas as pd\n",
    "import numpy as np"
   ]
  },
  {
   "cell_type": "code",
   "execution_count": 2,
   "metadata": {
    "collapsed": true
   },
   "outputs": [],
   "source": [
    "df = pd.read_excel(\"data/puzzel4D_new.xlsx\")"
   ]
  },
  {
   "cell_type": "code",
   "execution_count": 3,
   "metadata": {
    "collapsed": false
   },
   "outputs": [],
   "source": [
    "# create needed conceptSchemes\n",
    "scheme_arch_ob_type,_ = SkosConceptScheme.objects.get_or_create(dc_title=\"archeological object type\")"
   ]
  },
  {
   "cell_type": "code",
   "execution_count": 4,
   "metadata": {
    "collapsed": true
   },
   "outputs": [],
   "source": [
    "scheme_dig_ob_type,_ = SkosConceptScheme.objects.get_or_create(dc_title=\"dig object type\")"
   ]
  },
  {
   "cell_type": "code",
   "execution_count": 5,
   "metadata": {
    "collapsed": true
   },
   "outputs": [],
   "source": [
    "scheme_doc_type,_ = SkosConceptScheme.objects.get_or_create(dc_title=\"document type\")"
   ]
  },
  {
   "cell_type": "code",
   "execution_count": 14,
   "metadata": {
    "collapsed": false,
    "scrolled": true
   },
   "outputs": [],
   "source": [
    "hansi = df[2001:10000]"
   ]
  },
  {
   "cell_type": "code",
   "execution_count": 15,
   "metadata": {
    "collapsed": false
   },
   "outputs": [],
   "source": [
    "for index, row in hansi.iterrows():\n",
    "    #create concepts\n",
    "    if pd.notnull(row['Arch_obj_typ']):\n",
    "        concept1,_ = SkosConcept.objects.get_or_create(\n",
    "            pref_label=row['Arch_obj_typ'],\n",
    "            pref_label_lang='de'\n",
    "        )\n",
    "        concept1.save()\n",
    "        concept1.scheme=[scheme_arch_ob_type]\n",
    "        concept1.save()\n",
    "    if pd.notnull(row['Grabungsobjekt_typ']):\n",
    "        concept2,_ = SkosConcept.objects.get_or_create(\n",
    "            pref_label=row['Grabungsobjekt_typ'],\n",
    "            pref_label_lang='de'\n",
    "        )\n",
    "        concept2.save()\n",
    "        concept1.scheme=[scheme_dig_ob_type]\n",
    "        concept2.save()"
   ]
  },
  {
   "cell_type": "code",
   "execution_count": 16,
   "metadata": {
    "collapsed": true
   },
   "outputs": [],
   "source": [
    "#for x in SkosConcept.objects.all():\n",
    "#    x.delete()"
   ]
  },
  {
   "cell_type": "code",
   "execution_count": 17,
   "metadata": {
    "collapsed": false
   },
   "outputs": [],
   "source": [
    "for index, row in hansi.iterrows():\n",
    "    if pd.notnull(row['Dokument_id']):\n",
    "        temp_doc,_ = Document.objects.get_or_create(\n",
    "            document_id=row['Dokument_id'], \n",
    "        )\n",
    "        temp_doc.document_filename=row['Filename']\n",
    "        temp_doc.document_name=row['Dokument Titel']\n",
    "        \n",
    "        temp_doc_type,_ = SkosConcept.objects.get_or_create(\n",
    "            pref_label=row['Dokument Typ'],\n",
    "            pref_label_lang='de'\n",
    "        )\n",
    "        temp_doc_type.scheme=[scheme_doc_type]\n",
    "        temp_doc_type.save()\n",
    "        \n",
    "        temp_doc.document_type=temp_doc_type\n",
    "        \n",
    "        temp_areal,_ = Areal.objects.get_or_create(name=row['Areal'])\n",
    "        temp_areal.save()\n",
    "        \n",
    "        temp_doc.areal = temp_areal\n",
    "        \n",
    "        temp_planquadrat,_ = Planquadrat.objects.get_or_create(name=row['Planquadrat_Schnitt'])\n",
    "        temp_planquadrat.save()\n",
    "        \n",
    "        temp_doc.planquadrat = temp_planquadrat\n",
    "        \n",
    "        temp_planum,_ = Planum.objects.get_or_create(name=str(row['Planum']))\n",
    "        temp_planum.save()\n",
    "        \n",
    "        temp_doc.planum = temp_planum\n",
    "        \n",
    "        if pd.notnull(row['Arch_objekte_titel']):\n",
    "            temp_arch_object,_ = ArchObject.objects.get_or_create(\n",
    "                title=row['Arch_objekte_titel'],\n",
    "                object_type=SkosConcept.objects.get(pref_label=row['Arch_obj_typ'])\n",
    "            )\n",
    "            temp_arch_object.save()\n",
    "            temp_doc.archobject=[temp_arch_object]\n",
    "        temp_doc.save()\n",
    "        \n",
    "        if pd.notnull(row['Grabungsobjekt_titel']):\n",
    "            temp_dig_object,_ = DigObject.objects.get_or_create(\n",
    "                title=row['Grabungsobjekt_titel'],\n",
    "                object_type=SkosConcept.objects.get(pref_label=row['Grabungsobjekt_typ'])\n",
    "            )\n",
    "            temp_dig_object.save()\n",
    "            temp_doc.digobject=[temp_dig_object]\n",
    "        temp_doc.save()"
   ]
  },
  {
   "cell_type": "code",
   "execution_count": 15,
   "metadata": {
    "collapsed": true
   },
   "outputs": [],
   "source": [
    "#for x in Document.objects.all():\n",
    "#    x.delete()"
   ]
  },
  {
   "cell_type": "code",
   "execution_count": null,
   "metadata": {
    "collapsed": true
   },
   "outputs": [],
   "source": []
  }
 ],
 "metadata": {
  "kernelspec": {
   "display_name": "Django Shell-Plus",
   "language": "python",
   "name": "django_extensions"
  },
  "language_info": {
   "codemirror_mode": {
    "name": "ipython",
    "version": 3
   },
   "file_extension": ".py",
   "mimetype": "text/x-python",
   "name": "python",
   "nbconvert_exporter": "python",
   "pygments_lexer": "ipython3",
   "version": "3.5.2"
  }
 },
 "nbformat": 4,
 "nbformat_minor": 1
}
